{
  "cells": [
    {
      "cell_type": "code",
      "execution_count": null,
      "metadata": {
        "colab": {
          "base_uri": "https://localhost:8080/"
        },
        "id": "lzpSWQNyCa5l",
        "outputId": "77043036-41dd-49e6-d68b-d352e258937d"
      },
      "outputs": [
        {
          "output_type": "stream",
          "name": "stdout",
          "text": [
            "Drive already mounted at /content/drive; to attempt to forcibly remount, call drive.mount(\"/content/drive\", force_remount=True).\n"
          ]
        }
      ],
      "source": [
        "from google.colab import drive\n",
        "drive.mount('/content/drive')"
      ]
    },
    {
      "cell_type": "code",
      "source": [
        "!pip install mtcnn"
      ],
      "metadata": {
        "colab": {
          "base_uri": "https://localhost:8080/"
        },
        "id": "NZqK0AEMAKqH",
        "outputId": "2e846f52-a247-4e3c-be88-120d09e8540c"
      },
      "execution_count": null,
      "outputs": [
        {
          "output_type": "stream",
          "name": "stdout",
          "text": [
            "Looking in indexes: https://pypi.org/simple, https://us-python.pkg.dev/colab-wheels/public/simple/\n",
            "Collecting mtcnn\n",
            "  Downloading mtcnn-0.1.1-py3-none-any.whl (2.3 MB)\n",
            "\u001b[K     |████████████████████████████████| 2.3 MB 5.1 MB/s \n",
            "\u001b[?25hRequirement already satisfied: keras>=2.0.0 in /usr/local/lib/python3.7/dist-packages (from mtcnn) (2.8.0)\n",
            "Requirement already satisfied: opencv-python>=4.1.0 in /usr/local/lib/python3.7/dist-packages (from mtcnn) (4.1.2.30)\n",
            "Requirement already satisfied: numpy>=1.14.5 in /usr/local/lib/python3.7/dist-packages (from opencv-python>=4.1.0->mtcnn) (1.21.6)\n",
            "Installing collected packages: mtcnn\n",
            "Successfully installed mtcnn-0.1.1\n"
          ]
        }
      ]
    },
    {
      "cell_type": "markdown",
      "source": [
        "# CHÈN THƯ VIỆN"
      ],
      "metadata": {
        "id": "LLMx9aO_L7hA"
      }
    },
    {
      "cell_type": "markdown",
      "source": [
        ""
      ],
      "metadata": {
        "id": "6xGEi1cQ_0B2"
      }
    },
    {
      "cell_type": "code",
      "execution_count": null,
      "metadata": {
        "id": "VLVq2SEhCjRV"
      },
      "outputs": [],
      "source": [
        "import numpy as np\n",
        "import pandas as pd\n",
        "import tensorflow as tf\n",
        "import os\n",
        "import matplotlib.pyplot as plt\n",
        "from tensorflow import keras\n",
        "from tensorflow.keras.models import load_model\n",
        "from tensorflow.keras.utils import load_img,img_to_array\n",
        "from tensorflow.keras.preprocessing import image\n",
        "from tensorflow.keras.optimizers import SGD\n",
        "from tensorflow.keras.preprocessing.image import ImageDataGenerator\n",
        "\n",
        "from keras.models import Sequential \n",
        "from keras.utils import np_utils\n",
        "from keras.layers import Dense,Activation,Dropout,LSTM,BatchNormalization\n",
        "from keras.layers import Flatten\n",
        "from tensorflow.keras.optimizers import RMSprop,Adam\n",
        "from tensorflow.keras.utils import to_categorical\n",
        "from keras.layers.convolutional import Conv2D\n",
        "from keras.layers.convolutional import MaxPooling2D\n",
        "\n",
        "from PIL import Image\n",
        "\n",
        "from sklearn.model_selection import train_test_split\n",
        "\n",
        "from tensorflow.keras.models import Sequential, load_model\n",
        "from tensorflow.keras.layers import Conv2D, MaxPool2D, Dense, Flatten, Dropout"
      ]
    },
    {
      "cell_type": "markdown",
      "source": [
        "# TIỀN XỬ LÍ DỮ LIỆU VÀ CHUẨN HÓA BỘ DỮ LIỆU"
      ],
      "metadata": {
        "id": "raH3P27KML4P"
      }
    },
    {
      "cell_type": "code",
      "execution_count": null,
      "metadata": {
        "id": "zqA-PzEUI-0M"
      },
      "outputs": [],
      "source": [
        "data_train='/content/drive/MyDrive/emotion/train'\n",
        "data_validation='/content/drive/MyDrive/emotion/validation'\n",
        "train=ImageDataGenerator(rescale=1/255)\n",
        "validation=ImageDataGenerator(rescale=1/255)"
      ]
    },
    {
      "cell_type": "code",
      "execution_count": null,
      "metadata": {
        "colab": {
          "base_uri": "https://localhost:8080/"
        },
        "id": "LCLl1ST6JO8m",
        "outputId": "a00c8fa2-54ac-4c5f-f0ff-7e2bdb60e873"
      },
      "outputs": [
        {
          "output_type": "stream",
          "name": "stdout",
          "text": [
            "Found 25738 images belonging to 6 classes.\n",
            "Found 6955 images belonging to 6 classes.\n"
          ]
        }
      ],
      "source": [
        "traindata=train.flow_from_directory(data_train,\n",
        "                                    target_size=(48,48),color_mode=\"grayscale\",\n",
        "                                    batch_size=10,\n",
        "                                    class_mode='categorical',shuffle=True)\n",
        "validationdata=validation.flow_from_directory(data_validation,\n",
        "                                              target_size=(48,48),color_mode=\"grayscale\",\n",
        "                                              batch_size=10,\n",
        "                                              class_mode='categorical',shuffle=False)"
      ]
    },
    {
      "cell_type": "code",
      "execution_count": null,
      "metadata": {
        "colab": {
          "base_uri": "https://localhost:8080/"
        },
        "id": "WbkdWFYdKCBJ",
        "outputId": "0cbd10dc-9963-42be-e0cb-2c5783bcddfd"
      },
      "outputs": [
        {
          "output_type": "stream",
          "name": "stdout",
          "text": [
            "{'angry': 0, 'fear': 1, 'happy': 2, 'neutral': 3, 'sad': 4, 'surprise': 5}\n",
            "{'angry': 0, 'fear': 1, 'happy': 2, 'neutral': 3, 'sad': 4, 'surprise': 5}\n"
          ]
        }
      ],
      "source": [
        "print(traindata.class_indices)\n",
        "print(validationdata.class_indices)"
      ]
    },
    {
      "cell_type": "markdown",
      "source": [
        "# XÂY DỰNG MODEL\n"
      ],
      "metadata": {
        "id": "2W-qvQ0sMsZp"
      }
    },
    {
      "cell_type": "code",
      "execution_count": null,
      "metadata": {
        "id": "JLJYsgbGKHGu"
      },
      "outputs": [],
      "source": [
        "model=Sequential()\n",
        "# 1st layer\n",
        "model.add(Conv2D(64,(3,3),padding='same',activation='relu',input_shape=(48,48,1)))\n",
        "model.add(BatchNormalization())\n",
        "model.add(MaxPooling2D((2,2)))\n",
        "model.add(Dropout(0.25))\n",
        "# 2nd layer\n",
        "\n",
        "model.add(Conv2D(128,(3,3),padding='same'))\n",
        "model.add(BatchNormalization())\n",
        "model.add(MaxPooling2D((2,2)))\n",
        "model.add(Dropout(0.25))\n",
        "# 3 layer\n",
        "model.add(Conv2D(256,(3,3),padding='same'))\n",
        "model.add(BatchNormalization())\n",
        "model.add(MaxPooling2D((2,2)))\n",
        "model.add(Dropout(0.25))\n",
        "# 4 layer\n",
        "model.add(Conv2D(512,(3,3),padding='same'))\n",
        "model.add(BatchNormalization())\n",
        "model.add(MaxPooling2D((2,2)))\n",
        "model.add(Dropout(0.25))\n",
        "\n",
        "model.add(Flatten())\n",
        "model.add(Dense(128,activation='relu'))\n",
        "model.add(Dense(6,activation='softmax'))"
      ]
    },
    {
      "cell_type": "code",
      "source": [
        "model.summary()"
      ],
      "metadata": {
        "colab": {
          "base_uri": "https://localhost:8080/"
        },
        "id": "6DNIkKBDsqG0",
        "outputId": "ecebeb59-9953-46db-9255-a3b050d9acfa"
      },
      "execution_count": null,
      "outputs": [
        {
          "output_type": "stream",
          "name": "stdout",
          "text": [
            "Model: \"sequential_4\"\n",
            "_________________________________________________________________\n",
            " Layer (type)                Output Shape              Param #   \n",
            "=================================================================\n",
            " conv2d_16 (Conv2D)          (None, 48, 48, 64)        640       \n",
            "                                                                 \n",
            " batch_normalization_16 (Bat  (None, 48, 48, 64)       256       \n",
            " chNormalization)                                                \n",
            "                                                                 \n",
            " max_pooling2d_16 (MaxPoolin  (None, 24, 24, 64)       0         \n",
            " g2D)                                                            \n",
            "                                                                 \n",
            " dropout_16 (Dropout)        (None, 24, 24, 64)        0         \n",
            "                                                                 \n",
            " conv2d_17 (Conv2D)          (None, 24, 24, 128)       73856     \n",
            "                                                                 \n",
            " batch_normalization_17 (Bat  (None, 24, 24, 128)      512       \n",
            " chNormalization)                                                \n",
            "                                                                 \n",
            " max_pooling2d_17 (MaxPoolin  (None, 12, 12, 128)      0         \n",
            " g2D)                                                            \n",
            "                                                                 \n",
            " dropout_17 (Dropout)        (None, 12, 12, 128)       0         \n",
            "                                                                 \n",
            " conv2d_18 (Conv2D)          (None, 12, 12, 256)       295168    \n",
            "                                                                 \n",
            " batch_normalization_18 (Bat  (None, 12, 12, 256)      1024      \n",
            " chNormalization)                                                \n",
            "                                                                 \n",
            " max_pooling2d_18 (MaxPoolin  (None, 6, 6, 256)        0         \n",
            " g2D)                                                            \n",
            "                                                                 \n",
            " dropout_18 (Dropout)        (None, 6, 6, 256)         0         \n",
            "                                                                 \n",
            " conv2d_19 (Conv2D)          (None, 6, 6, 512)         1180160   \n",
            "                                                                 \n",
            " batch_normalization_19 (Bat  (None, 6, 6, 512)        2048      \n",
            " chNormalization)                                                \n",
            "                                                                 \n",
            " max_pooling2d_19 (MaxPoolin  (None, 3, 3, 512)        0         \n",
            " g2D)                                                            \n",
            "                                                                 \n",
            " dropout_19 (Dropout)        (None, 3, 3, 512)         0         \n",
            "                                                                 \n",
            " flatten_4 (Flatten)         (None, 4608)              0         \n",
            "                                                                 \n",
            " dense_8 (Dense)             (None, 128)               589952    \n",
            "                                                                 \n",
            " dense_9 (Dense)             (None, 6)                 774       \n",
            "                                                                 \n",
            "=================================================================\n",
            "Total params: 2,144,390\n",
            "Trainable params: 2,142,470\n",
            "Non-trainable params: 1,920\n",
            "_________________________________________________________________\n"
          ]
        }
      ]
    },
    {
      "cell_type": "markdown",
      "source": [
        "# TIẾN HÀNH HUẤN LUYỆN"
      ],
      "metadata": {
        "id": "PloygoBsM0s2"
      }
    },
    {
      "cell_type": "code",
      "execution_count": null,
      "metadata": {
        "colab": {
          "base_uri": "https://localhost:8080/"
        },
        "id": "8D1BloktMDZu",
        "outputId": "d8851fad-f7a4-4437-8f59-db34716547d7"
      },
      "outputs": [
        {
          "metadata": {
            "tags": null
          },
          "name": "stdout",
          "output_type": "stream",
          "text": [
            "Epoch 1/15\n"
          ]
        },
        {
          "metadata": {
            "tags": null
          },
          "name": "stderr",
          "output_type": "stream",
          "text": [
            "/usr/local/lib/python3.7/dist-packages/keras/optimizer_v2/adam.py:105: UserWarning: The `lr` argument is deprecated, use `learning_rate` instead.\n",
            "  super(Adam, self).__init__(name, **kwargs)\n"
          ]
        },
        {
          "output_type": "stream",
          "name": "stdout",
          "text": [
            "2574/2574 [==============================] - 810s 314ms/step - loss: 1.6599 - accuracy: 0.3218 - val_loss: 1.4958 - val_accuracy: 0.4198\n",
            "Epoch 2/15\n",
            "2574/2574 [==============================] - 758s 295ms/step - loss: 1.4392 - accuracy: 0.4280 - val_loss: 1.3221 - val_accuracy: 0.4835\n",
            "Epoch 3/15\n",
            "2574/2574 [==============================] - 749s 291ms/step - loss: 1.3339 - accuracy: 0.4726 - val_loss: 1.3109 - val_accuracy: 0.4896\n",
            "Epoch 4/15\n",
            "2574/2574 [==============================] - 756s 294ms/step - loss: 1.2571 - accuracy: 0.5119 - val_loss: 1.2453 - val_accuracy: 0.5165\n",
            "Epoch 5/15\n",
            "2574/2574 [==============================] - 749s 291ms/step - loss: 1.2029 - accuracy: 0.5338 - val_loss: 1.1772 - val_accuracy: 0.5498\n",
            "Epoch 6/15\n",
            "2574/2574 [==============================] - 754s 293ms/step - loss: 1.1550 - accuracy: 0.5563 - val_loss: 1.1549 - val_accuracy: 0.5605\n",
            "Epoch 7/15\n",
            "2574/2574 [==============================] - 746s 290ms/step - loss: 1.1133 - accuracy: 0.5694 - val_loss: 1.1424 - val_accuracy: 0.5659\n",
            "Epoch 8/15\n",
            "2574/2574 [==============================] - 811s 315ms/step - loss: 1.0753 - accuracy: 0.5855 - val_loss: 1.1913 - val_accuracy: 0.5524\n",
            "Epoch 9/15\n",
            "2574/2574 [==============================] - 753s 292ms/step - loss: 1.0406 - accuracy: 0.6002 - val_loss: 1.1205 - val_accuracy: 0.5797\n",
            "Epoch 10/15\n",
            "2574/2574 [==============================] - 772s 300ms/step - loss: 1.0085 - accuracy: 0.6143 - val_loss: 1.1002 - val_accuracy: 0.5858\n",
            "Epoch 11/15\n",
            "2574/2574 [==============================] - 766s 298ms/step - loss: 0.9749 - accuracy: 0.6318 - val_loss: 1.1104 - val_accuracy: 0.5861\n",
            "Epoch 12/15\n",
            "2574/2574 [==============================] - 761s 296ms/step - loss: 0.9405 - accuracy: 0.6419 - val_loss: 1.0911 - val_accuracy: 0.5993\n",
            "Epoch 13/15\n",
            "2574/2574 [==============================] - 753s 293ms/step - loss: 0.9160 - accuracy: 0.6568 - val_loss: 1.1315 - val_accuracy: 0.5879\n",
            "Epoch 14/15\n",
            "2574/2574 [==============================] - 742s 288ms/step - loss: 0.8798 - accuracy: 0.6696 - val_loss: 1.1878 - val_accuracy: 0.5760\n",
            "Epoch 15/15\n",
            "2574/2574 [==============================] - 747s 290ms/step - loss: 0.8492 - accuracy: 0.6790 - val_loss: 1.1430 - val_accuracy: 0.5908\n"
          ]
        }
      ],
      "source": [
        "opt = Adam(lr = 0.0001)\n",
        "model.compile(loss='categorical_crossentropy',optimizer=opt,metrics=['accuracy'])\n",
        "history=model.fit(traindata,batch_size=10,epochs=15,verbose=1,validation_data=validationdata)"
      ]
    },
    {
      "cell_type": "markdown",
      "source": [
        "## LƯU MODEL ĐÃ TRAIN "
      ],
      "metadata": {
        "id": "5wy0GMPAM61I"
      }
    },
    {
      "cell_type": "code",
      "execution_count": null,
      "metadata": {
        "id": "ovMLRyk-1qrd"
      },
      "outputs": [],
      "source": [
        "model.save('model.h5')"
      ]
    },
    {
      "cell_type": "markdown",
      "source": [
        "## TẢI MODEL"
      ],
      "metadata": {
        "id": "iJELfpQMNASY"
      }
    },
    {
      "cell_type": "code",
      "execution_count": null,
      "metadata": {
        "id": "IYwjW1bl2JIS"
      },
      "outputs": [],
      "source": [
        "model = load_model('/content/model.h5')"
      ]
    },
    {
      "cell_type": "markdown",
      "source": [
        "# CHUẨN BỊ TẬP TEST"
      ],
      "metadata": {
        "id": "S6QuD6z_NLwo"
      }
    },
    {
      "cell_type": "code",
      "source": [
        "%ls /content/drive/MyDrive/emotion/test"
      ],
      "metadata": {
        "colab": {
          "base_uri": "https://localhost:8080/"
        },
        "id": "1W2cIxVRpGl7",
        "outputId": "3e4d8c45-c896-4c78-c7df-b663ed5df82a"
      },
      "execution_count": null,
      "outputs": [
        {
          "output_type": "stream",
          "name": "stdout",
          "text": [
            "\u001b[0m\u001b[01;34mangry\u001b[0m/  \u001b[01;34mfear\u001b[0m/  \u001b[01;34mhappy\u001b[0m/  \u001b[01;34mneutral\u001b[0m/  \u001b[01;34msad\u001b[0m/  \u001b[01;34msurprise\u001b[0m/\n"
          ]
        }
      ]
    },
    {
      "cell_type": "code",
      "execution_count": null,
      "metadata": {
        "id": "EdMvW0kaRpPV",
        "colab": {
          "base_uri": "https://localhost:8080/"
        },
        "outputId": "0dd01a99-d2de-4f39-d056-eda6a4381bb7"
      },
      "outputs": [
        {
          "output_type": "stream",
          "name": "stdout",
          "text": [
            "Found 2647 images belonging to 6 classes.\n"
          ]
        }
      ],
      "source": [
        "data_test='/content/drive/MyDrive/emotion/test'\n",
        "test=ImageDataGenerator(rescale=1/255)\n",
        "testdata=test.flow_from_directory(data_test,\n",
        "                                    target_size=(48,48),color_mode=\"grayscale\",\n",
        "                                    batch_size=2647,\n",
        "                                    class_mode='categorical',shuffle=True)"
      ]
    },
    {
      "cell_type": "code",
      "source": [
        "testdata.class_indices"
      ],
      "metadata": {
        "colab": {
          "base_uri": "https://localhost:8080/"
        },
        "id": "ShRxi22Xo5SE",
        "outputId": "6dc2bc37-6838-444c-ff6e-be60349546e3"
      },
      "execution_count": null,
      "outputs": [
        {
          "output_type": "execute_result",
          "data": {
            "text/plain": [
              "{'angry': 0, 'fear': 1, 'happy': 2, 'neutral': 3, 'sad': 4, 'surprise': 5}"
            ]
          },
          "metadata": {},
          "execution_count": 39
        }
      ]
    },
    {
      "cell_type": "code",
      "source": [
        "model.evaluate(testdata, return_dict=True)"
      ],
      "metadata": {
        "colab": {
          "base_uri": "https://localhost:8080/"
        },
        "id": "E2HiWsmgpWUM",
        "outputId": "f71a7015-804f-4b33-a495-ff0f00180093"
      },
      "execution_count": null,
      "outputs": [
        {
          "output_type": "stream",
          "name": "stdout",
          "text": [
            "265/265 [==============================] - 19s 72ms/step - loss: 1.1941 - accuracy: 0.5629\n"
          ]
        },
        {
          "output_type": "execute_result",
          "data": {
            "text/plain": [
              "{'accuracy': 0.5629013776779175, 'loss': 1.1941009759902954}"
            ]
          },
          "metadata": {},
          "execution_count": 23
        }
      ]
    },
    {
      "cell_type": "markdown",
      "source": [
        "# TIẾN HÀNH CHUẨN ĐOÁN"
      ],
      "metadata": {
        "id": "ADoRtOv9NUXY"
      }
    },
    {
      "cell_type": "code",
      "source": [
        "x_test, y_test = testdata[0]\n",
        "predictions = model.predict(x_test)\n",
        "\n",
        "expect = [label.argmax() for label in y_test]\n",
        "actual = [prediction.argmax() for prediction in predictions]"
      ],
      "metadata": {
        "id": "sBv3K8QfxCv5"
      },
      "execution_count": null,
      "outputs": []
    },
    {
      "cell_type": "code",
      "execution_count": null,
      "metadata": {
        "id": "QbtQ8nttKRw6",
        "colab": {
          "base_uri": "https://localhost:8080/",
          "height": 289
        },
        "outputId": "2ec84762-38b4-4d0c-97b3-791b494996b6"
      },
      "outputs": [
        {
          "output_type": "display_data",
          "data": {
            "text/plain": [
              "<Figure size 432x288 with 2 Axes>"
            ],
            "image/png": "[encoded data removed]"
          },
          "metadata": {
            "needs_background": "light"
          }
        }
      ],
      "source": [
        "cm = tf.math.confusion_matrix(labels=expect, predictions=actual)\n",
        "\n",
        "labels = ['Angry','Fear','Happy','Neutral', 'Sad', 'Surprise']\n",
        "\n",
        "fig = plt.figure()\n",
        "ax = fig.add_subplot(111)\n",
        "cax = ax.matshow(cm)\n",
        "plt.title('Confusion matrix of the classifier')\n",
        "fig.colorbar(cax)\n",
        "ax.set_xticklabels([''] + labels)\n",
        "ax.set_yticklabels([''] + labels)\n",
        "plt.xlabel('Expected')\n",
        "plt.ylabel('Actual')\n",
        "plt.show()"
      ]
    }
  ],
  "metadata": {
    "colab": {
      "collapsed_sections": [],
      "name": "EMOTION.ipynb",
      "provenance": []
    },
    "kernelspec": {
      "display_name": "Python 3",
      "name": "python3"
    },
    "language_info": {
      "name": "python"
    },
    "gpuClass": "standard"
  },
  "nbformat": 4,
  "nbformat_minor": 0
}